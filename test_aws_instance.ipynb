{
 "cells": [
  {
   "cell_type": "code",
   "execution_count": 17,
   "metadata": {},
   "outputs": [],
   "source": [
    "from psutil import virtual_memory, cpu_count\n",
    "from tensorflow.python.client import device_lib\n",
    "\n",
    "def get(size):\n",
    "    power = 2**10; n = 0\n",
    "    Dic_powerN = {0 : '', 1: 'kilo', 2: 'mega', 3: 'giga', 4: 'tera'}\n",
    "    while size > power:\n",
    "        size /=  power\n",
    "        n += 1\n",
    "    return f\"{size:.0f} {Dic_powerN[n]}bytes\""
   ]
  },
  {
   "cell_type": "code",
   "execution_count": 20,
   "metadata": {},
   "outputs": [
    {
     "name": "stdout",
     "output_type": "stream",
     "text": [
      "This instance has:\n",
      "  - 16 gigabytes of RAM\n",
      "  - 6 physical CPU cores\n",
      "\n",
      "Computation devices:\n",
      "  1) CPU: 256 megabytes of memory\n"
     ]
    }
   ],
   "source": [
    "print(f\"This instance has:\\n  - {get(virtual_memory().total)} of RAM\")\n",
    "print(f\"  - {cpu_count(logical=False)} physical CPU cores\")\n",
    "print(f\"\\nComputation devices:\")\n",
    "for i, dev in enumerate(device_lib.list_local_devices()):\n",
    "    print(f\"  {i+1}) {dev.device_type}: {get(dev.memory_limit)} of memory\")"
   ]
  },
  {
   "cell_type": "code",
   "execution_count": null,
   "metadata": {},
   "outputs": [],
   "source": []
  }
 ],
 "metadata": {
  "kernelspec": {
   "display_name": "Python 3",
   "language": "python",
   "name": "python3"
  },
  "language_info": {
   "codemirror_mode": {
    "name": "ipython",
    "version": 3
   },
   "file_extension": ".py",
   "mimetype": "text/x-python",
   "name": "python",
   "nbconvert_exporter": "python",
   "pygments_lexer": "ipython3",
   "version": "3.6.8"
  }
 },
 "nbformat": 4,
 "nbformat_minor": 2
}
