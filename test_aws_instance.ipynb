{
 "cells": [
  {
   "cell_type": "code",
   "execution_count": 1,
   "metadata": {},
   "outputs": [],
   "source": [
    "from psutil import virtual_memory, cpu_count\n",
    "import platform\n",
    "\n",
    "def get(size):\n",
    "    power = 2**10; n = 0\n",
    "    Dic_powerN = {0 : '', 1: 'kilo', 2: 'mega', 3: 'giga', 4: 'tera'}\n",
    "    while size > power:\n",
    "        size /=  power\n",
    "        n += 1\n",
    "    return f\"{size:.1f} {Dic_powerN[n]}bytes\""
   ]
  },
  {
   "cell_type": "code",
   "execution_count": 2,
   "metadata": {},
   "outputs": [
    {
     "name": "stdout",
     "output_type": "stream",
     "text": [
      "Hello world!\n",
      "\n",
      "System info:\n",
      "    system: Linux\n",
      "    node: ip-172-31-28-28\n",
      "    release: 4.14.97-74.72.amzn1.x86_64\n",
      "    version\n",
      "    \n",
      "This instance has:\n",
      "  - 240.1 gigabytes of RAM\n",
      "  - 16 physical CPU cores\n"
     ]
    }
   ],
   "source": [
    "print(\"Hello world!\\n\")\n",
    "\n",
    "uname = platform.uname()\n",
    "print(f\"\"\"System info:\n",
    "    system: {uname.system}\n",
    "    node: {uname.node}\n",
    "    release: {uname.release}\n",
    "    version\n",
    "    \"\"\")\n",
    "\n",
    "print(f\"This instance has:\\n  - {get(virtual_memory().total)} of RAM\")\n",
    "print(f\"  - {cpu_count(logical=False)} physical CPU cores\")"
   ]
  },
  {
   "cell_type": "markdown",
   "metadata": {},
   "source": [
    "Wow! :P"
   ]
  }
 ],
 "metadata": {
  "kernelspec": {
   "display_name": "Python 3",
   "language": "python",
   "name": "python3"
  },
  "language_info": {
   "codemirror_mode": {
    "name": "ipython",
    "version": 3
   },
   "file_extension": ".py",
   "mimetype": "text/x-python",
   "name": "python",
   "nbconvert_exporter": "python",
   "pygments_lexer": "ipython3",
   "version": "3.6.5"
  }
 },
 "nbformat": 4,
 "nbformat_minor": 2
}
