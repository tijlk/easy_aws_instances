{
 "cells": [
  {
   "cell_type": "code",
   "execution_count": 1,
   "metadata": {},
   "outputs": [],
   "source": [
    "from psutil import virtual_memory, cpu_count\n",
    "from tensorflow.python.client import device_lib\n",
    "\n",
    "def get(size):\n",
    "    power = 2**10; n = 0\n",
    "    Dic_powerN = {0 : '', 1: 'kilo', 2: 'mega', 3: 'giga', 4: 'tera'}\n",
    "    while size > power:\n",
    "        size /=  power\n",
    "        n += 1\n",
    "    return f\"{size:.0f} {Dic_powerN[n]}bytes\""
   ]
  },
  {
   "cell_type": "code",
   "execution_count": 21,
   "metadata": {},
   "outputs": [
    {
     "name": "stdout",
     "output_type": "stream",
     "text": [
      "This instance has:\n",
      "  - 240 gigabytes of RAM\n",
      "  - 16 physical CPU cores\n",
      "\n",
      "Computation devices:\n",
      "  1) CPU\n",
      "  2) GPU: Tesla V100-SXM2-16GB\n",
      "  3) GPU: Tesla V100-SXM2-16GB\n",
      "  4) GPU: Tesla V100-SXM2-16GB\n",
      "  5) GPU: Tesla V100-SXM2-16GB\n"
     ]
    }
   ],
   "source": [
    "print(f\"This instance has:\\n  - {get(virtual_memory().total)} of RAM\")\n",
    "print(f\"  - {cpu_count(logical=False)} physical CPU cores\")\n",
    "print(f\"\\nComputation devices:\")\n",
    "for i, dev in enumerate(device_lib.list_local_devices()):\n",
    "    if dev.physical_device_desc != '':\n",
    "        name = dev.physical_device_desc.split(',')[1].split(':')[1].strip()\n",
    "        print(f\"  {i+1}) {dev.device_type}: {name}\")\n",
    "    else:\n",
    "        print(f\"  {i+1}) {dev.device_type}\")"
   ]
  }
 ],
 "metadata": {
  "kernelspec": {
   "display_name": "Python 3",
   "language": "python",
   "name": "python3"
  },
  "language_info": {
   "codemirror_mode": {
    "name": "ipython",
    "version": 3.0
   },
   "file_extension": ".py",
   "mimetype": "text/x-python",
   "name": "python",
   "nbconvert_exporter": "python",
   "pygments_lexer": "ipython3",
   "version": "3.6.5"
  }
 },
 "nbformat": 4,
 "nbformat_minor": 0
}